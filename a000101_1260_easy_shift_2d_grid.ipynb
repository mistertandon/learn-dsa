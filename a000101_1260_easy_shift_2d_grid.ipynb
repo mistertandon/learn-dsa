{
 "cells": [
  {
   "cell_type": "markdown",
   "metadata": {},
   "source": [
    "#### 1260. Shift 2D Grid"
   ]
  },
  {
   "cell_type": "code",
   "execution_count": 20,
   "metadata": {},
   "outputs": [],
   "source": [
    "import pixiedust"
   ]
  },
  {
   "cell_type": "code",
   "execution_count": 21,
   "metadata": {},
   "outputs": [],
   "source": [
    "import import_ipynb"
   ]
  },
  {
   "cell_type": "code",
   "execution_count": 22,
   "metadata": {},
   "outputs": [],
   "source": [
    "from a000100_helper import print_variable_type, print_object"
   ]
  },
  {
   "cell_type": "code",
   "execution_count": 23,
   "metadata": {},
   "outputs": [],
   "source": [
    "from typing import List"
   ]
  },
  {
   "cell_type": "code",
   "execution_count": 24,
   "metadata": {},
   "outputs": [],
   "source": [
    "class Solution:\n",
    "    \n",
    "    def __init__(self):\n",
    "        self.grid: List[List[int]] = list()\n",
    "        self.num_to_shift: int\n",
    "        self.grid_rows: int\n",
    "        self.grid_cols: int\n",
    "        self.generated_rows_via_shift_by_num: int\n",
    "        self.generated_cols_via_shift_by_num: int\n",
    "        self.temp_value: int = None\n",
    "        self.processed_indices: List[Tuple[int, int]] = list()\n",
    "        self.pending_swapping: List[Tuple[int, int, int]] = list()\n",
    "        print('walk through cinstructor')\n",
    "\n",
    "\n",
    "    def set_grid(self, grid: List[List[int]]):\n",
    "        self.grid = grid\n",
    "        self.set_grid_rows_len()\n",
    "        self.set_grid_cols_len()\n",
    "\n",
    "\n",
    "    def set_grid_element(self, row, col, value):\n",
    "        self.grid[row][col] = value\n",
    "\n",
    "        return True\n",
    "\n",
    "\n",
    "    def set_grid_rows_len(self):\n",
    "        self.grid_rows = len(self.grid)\n",
    "\n",
    "\n",
    "    def set_grid_cols_len(self):\n",
    "        self.grid_cols = len(self.grid[0])\n",
    "\n",
    "\n",
    "    def set_shift_num(self, k: int) -> bool:\n",
    "        self.num_to_shift = k\n",
    "        self.generated_rows_via_shift_by_num()\n",
    "        self.generated_cols_via_shift_by_num()\n",
    "        \n",
    "        return True\n",
    "\n",
    "\n",
    "    def generated_rows_via_shift_by_num(self) -> bool:\n",
    "        self.generated_rows_via_shift_by_num = int(self.num_to_shift / self.grid_cols)\n",
    "        \n",
    "        return True\n",
    "\n",
    "\n",
    "    def generated_cols_via_shift_by_num(self):\n",
    "        self.generated_cols_via_shift_by_num = self.num_to_shift % self.grid_cols\n",
    "        \n",
    "        return True        \n",
    "        \n",
    "    \n",
    "    def get_next_row_col_index(self, current_row, current_col):\n",
    "        next_row: int\n",
    "        next_column: int        \n",
    "        additional_row :int\n",
    "\n",
    "        additional_row = int((current_col + self.generated_cols_via_shift_by_num) / self.grid_cols) \n",
    "\n",
    "        if additional_row > 0:\n",
    "\n",
    "            next_row = current_row + self.generated_rows_via_shift_by_num + additional_row\n",
    "            \n",
    "            if next_row >= self.grid_rows:\n",
    "                next_row = next_row - self.grid_rows\n",
    "\n",
    "            next_column = (current_col + self.generated_cols_via_shift_by_num) % self.grid_cols\n",
    "        else:\n",
    "            next_row = current_row + self.generated_rows_via_shift_by_num\n",
    "            if next_row >= self.grid_rows:\n",
    "                next_row = next_row - self.grid_rows\n",
    "\n",
    "            next_column = current_col + self.generated_cols_via_shift_by_num\n",
    "            \n",
    "        return next_row, next_column\n",
    "        \n",
    "    def stop_swapping(self, current_row, current_col, next_row, next_column):\n",
    "        \n",
    "        return True if (next_row < current_row) or ((next_row == current_row) and (next_column <= current_col ) ) else False\n",
    "\n",
    "\n",
    "    def shift_element(self, current_row, current_col, next_row, next_column, stop_swapping):\n",
    "        \n",
    "        if (stop_swapping and ((next_row, next_column) in self.processed_indices)):\n",
    "            \n",
    "            if self.temp_value is not None:\n",
    "                temp: int\n",
    "                temp =  self.grid[next_row][next_column]\n",
    "                self.grid[next_row][next_column] = self.temp_value\n",
    "                self.temp_value = temp\n",
    "            else:\n",
    "                self.temp_value = self.grid[next_row][next_column]\n",
    "                self.grid[next_row][next_column] = self.grid[current_row][current_col]\n",
    "\n",
    "        elif (stop_swapping and ((next_row, next_column) not in self.processed_indices)):\n",
    "            if self.temp_value is not None:\n",
    "                self.pending_swapping.append((next_row, next_column, self.temp_value))                \n",
    "            else:\n",
    "                self.pending_swapping.append((next_row, next_column, self.grid[next_row][next_column]))\n",
    "\n",
    "        elif not stop_swapping:\n",
    "\n",
    "            if self.temp_value is not None:\n",
    "                temp: int\n",
    "                temp =  self.grid[next_row][next_column]\n",
    "                self.grid[next_row][next_column] = self.temp_value\n",
    "                self.temp_value = temp\n",
    "            else:\n",
    "                self.temp_value = self.grid[next_row][next_column]\n",
    "                self.grid[next_row][next_column] = self.grid[current_row][current_col]\n",
    "\n",
    "        return True\n",
    "    \n",
    "    \n",
    "    def trigger_shift_elements(self, current_row, current_col, stop = False):\n",
    "\n",
    "        if stop:\n",
    "            self.temp_value = None\n",
    "            return True\n",
    "\n",
    "        next_row: int\n",
    "        next_column: int\n",
    "            \n",
    "        next_row, next_column = self.get_next_row_col_index(current_row, current_col)\n",
    "        stop_swapping = self.stop_swapping(current_row, current_col, next_row, next_column)\n",
    "        \n",
    "        self.shift_element(current_row, current_col, next_row, next_column, stop_swapping)\n",
    "        \n",
    "        \n",
    "\n",
    "        return self.trigger_shift_elements(next_row, next_column, stop_swapping)\n",
    "\n",
    "\n",
    "    def get_row_col_index(self, counter):\n",
    "        row = int(counter / self.grid_cols)\n",
    "        col = counter % self.grid_cols\n",
    "        \n",
    "        return row, col\n",
    "        \n",
    "        \n",
    "    def shiftGrid(self, grid: List[List[int]], k: int):\n",
    "        self.set_grid(grid)\n",
    "        self.set_shift_num(k)\n",
    "        print_object(self.grid)\n",
    "        for index in range(0, self.num_to_shift):\n",
    "            row, col = self.get_row_col_index(index)\n",
    "            self.processed_indices.append((row, col))\n",
    "            self.trigger_shift_elements(row, col)\n",
    "        \n",
    "        print_object(self.pending_swapping)\n",
    "        for row_coord, col_coord, value in self.pending_swapping:\n",
    "            self.set_grid_element(row_coord, col_coord, value)\n",
    "\n",
    "        print_object(self.grid)\n",
    "        \n",
    "        return self.grid"
   ]
  },
  {
   "cell_type": "code",
   "execution_count": 25,
   "metadata": {},
   "outputs": [
    {
     "name": "stdout",
     "output_type": "stream",
     "text": [
      "walk through cinstructor\n",
      "__main__.Solution(\n",
      "   grid = [], \n",
      "   pending_swapping = [], \n",
      "   processed_indices = [], \n",
      "   temp_value = None\n",
      ")\n"
     ]
    },
    {
     "data": {
      "text/plain": [
       "True"
      ]
     },
     "execution_count": 25,
     "metadata": {},
     "output_type": "execute_result"
    }
   ],
   "source": [
    "solution_inst = Solution()\n",
    "print_object(solution_inst)\n"
   ]
  },
  {
   "cell_type": "code",
   "execution_count": 26,
   "metadata": {
    "pixiedust": {
     "displayParams": {}
    }
   },
   "outputs": [
    {
     "name": "stdout",
     "output_type": "stream",
     "text": [
      "[[1, 2, 3], [4, 5, 6], [7, 8, 9]]\n",
      "[]\n",
      "[[1, 2, 3], [4, 5, 6], [7, 8, 9]]\n"
     ]
    },
    {
     "data": {
      "text/plain": [
       "[[1, 2, 3], [4, 5, 6], [7, 8, 9]]"
      ]
     },
     "execution_count": 26,
     "metadata": {},
     "output_type": "execute_result"
    }
   ],
   "source": [
    "# %%pixie_debugger\n",
    "solution_inst.shiftGrid([[1,2,3],[4,5,6],[7,8,9]], 9)\n",
    "# solution_inst.shiftGrid([[1,2,3],[4,5,6]], 2)"
   ]
  },
  {
   "cell_type": "code",
   "execution_count": null,
   "metadata": {},
   "outputs": [],
   "source": []
  },
  {
   "cell_type": "code",
   "execution_count": null,
   "metadata": {},
   "outputs": [],
   "source": []
  }
 ],
 "metadata": {
  "kernelspec": {
   "display_name": "Python 3",
   "language": "python",
   "name": "python3"
  },
  "language_info": {
   "codemirror_mode": {
    "name": "ipython",
    "version": 3
   },
   "file_extension": ".py",
   "mimetype": "text/x-python",
   "name": "python",
   "nbconvert_exporter": "python",
   "pygments_lexer": "ipython3",
   "version": "3.6.8"
  },
  "toc": {
   "base_numbering": 1,
   "nav_menu": {},
   "number_sections": true,
   "sideBar": true,
   "skip_h1_title": false,
   "title_cell": "Table of Contents",
   "title_sidebar": "Contents",
   "toc_cell": false,
   "toc_position": {},
   "toc_section_display": true,
   "toc_window_display": false
  }
 },
 "nbformat": 4,
 "nbformat_minor": 2
}
