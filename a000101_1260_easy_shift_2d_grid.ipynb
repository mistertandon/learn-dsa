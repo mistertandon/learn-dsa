{
 "cells": [
  {
   "cell_type": "markdown",
   "metadata": {},
   "source": [
    "#### 1260. Shift 2D Grid"
   ]
  },
  {
   "cell_type": "code",
   "execution_count": 23,
   "metadata": {},
   "outputs": [],
   "source": [
    "import import_ipynb"
   ]
  },
  {
   "cell_type": "code",
   "execution_count": 24,
   "metadata": {},
   "outputs": [],
   "source": [
    "from a000100_helper import print_variable_type, print_object"
   ]
  },
  {
   "cell_type": "code",
   "execution_count": 25,
   "metadata": {},
   "outputs": [],
   "source": [
    "from typing import List"
   ]
  },
  {
   "cell_type": "code",
   "execution_count": 26,
   "metadata": {},
   "outputs": [],
   "source": [
    "class Solution:\n",
    "    \n",
    "    def __init__(self):\n",
    "        self.grid: List[List[int]]\n",
    "        self.num_to_shift: int\n",
    "        self.grid_rows: int\n",
    "        self.grid_cols: int\n",
    "        self.generated_rows_via_shift_by_num: int\n",
    "        self.generated_cols_via_shift_by_num: int\n",
    "        self.temp_value: int = None\n",
    "\n",
    "\n",
    "    def set_grid(self, grid: List[List[int]]):\n",
    "        self.grid = grid\n",
    "        self.set_grid_rows_len()\n",
    "        self.set_grid_cols_len()\n",
    "\n",
    "\n",
    "    def set_grid_rows_len(self):\n",
    "        self.grid_rows = len(self.grid)\n",
    "\n",
    "\n",
    "    def set_grid_cols_len(self):\n",
    "        self.grid_cols = len(self.grid[0])\n",
    "\n",
    "\n",
    "    def set_shift_num(self, k: int) -> bool:\n",
    "        self.num_to_shift = k\n",
    "        self.generated_rows_via_shift_by_num()\n",
    "        self.generated_cols_via_shift_by_num()\n",
    "        \n",
    "        return True\n",
    "\n",
    "\n",
    "    def generated_rows_via_shift_by_num(self) -> bool:\n",
    "        self.generated_rows_via_shift_by_num = int(self.num_to_shift / self.grid_cols)\n",
    "        \n",
    "        return True\n",
    "\n",
    "\n",
    "    def generated_cols_via_shift_by_num(self):\n",
    "        self.generated_cols_via_shift_by_num = self.num_to_shift % self.grid_cols\n",
    "        \n",
    "        return True        \n",
    "        \n",
    "    \n",
    "    def get_next_row_col_index(self, current_row, current_col):\n",
    "        next_row: int\n",
    "        next_column: int        \n",
    "        additional_row :int\n",
    "\n",
    "        additional_row = int(current_col + self.generated_cols_via_shift_by_num) / self.grid_cols\n",
    "\n",
    "        if additional_row > 0:\n",
    "\n",
    "            next_row = current_row + self.generated_rows_via_shift_by_num + additional_row\n",
    "            \n",
    "            if next_row >= self.grid_rows:\n",
    "                next_row = next_row - self.grid_rows\n",
    "\n",
    "            next_column = int(current_col + self.generated_cols_via_shift_by_num) % self.grid_cols\n",
    "        else:\n",
    "            next_row = current_row + self.generated_rows_via_shift_by_num\n",
    "            next_column = current_col + self.generated_cols_via_shift_by_num\n",
    "            \n",
    "        return next_row, next_column\n",
    "        \n",
    "#     def stop_swapping(self, current_row, current_col, next_row, next_column):\n",
    "        \n",
    "        \n",
    "        \n",
    "    def shift_elements(self, current_row, current_col, stop = False):\n",
    "\n",
    "        if stop:\n",
    "            return True\n",
    "\n",
    "        next_row: int\n",
    "        next_column: int\n",
    "            \n",
    "        next_row, next_column = self.get_next_row_col_index(current_row, current_col)\n",
    "\n",
    "        print(current_row)\n",
    "        print(current_col)\n",
    "        print(self.generated_rows_via_shift_by_num)\n",
    "        print(self.generated_cols_via_shift_by_num)\n",
    "        print(next_row)\n",
    "        print(next_column)\n",
    "\n",
    "\n",
    "    def shiftGrid(self, grid: List[List[int]], k: int):\n",
    "        self.set_grid(grid)\n",
    "        self.set_shift_num(k)\n",
    "#         for index in range(0, self.num_to_shift):\n",
    "        for index in range(0, 1):\n",
    "            self.shift_elements(0, 0)\n",
    "        \n",
    "        return True"
   ]
  },
  {
   "cell_type": "code",
   "execution_count": 27,
   "metadata": {},
   "outputs": [
    {
     "name": "stdout",
     "output_type": "stream",
     "text": [
      "__main__.Solution(temp_value = None)\n"
     ]
    },
    {
     "data": {
      "text/plain": [
       "True"
      ]
     },
     "execution_count": 27,
     "metadata": {},
     "output_type": "execute_result"
    }
   ],
   "source": [
    "solution_inst = Solution()\n",
    "print_object(solution_inst)\n"
   ]
  },
  {
   "cell_type": "code",
   "execution_count": 28,
   "metadata": {},
   "outputs": [
    {
     "name": "stdout",
     "output_type": "stream",
     "text": [
      "0\n",
      "0\n",
      "1\n",
      "1\n",
      "1.3333333333333333\n",
      "1\n"
     ]
    },
    {
     "data": {
      "text/plain": [
       "True"
      ]
     },
     "execution_count": 28,
     "metadata": {},
     "output_type": "execute_result"
    }
   ],
   "source": [
    "solution_inst.shiftGrid([[1,2,3],[4,5,6],[7,8,9]], 4)"
   ]
  }
 ],
 "metadata": {
  "kernelspec": {
   "display_name": "Python 3",
   "language": "python",
   "name": "python3"
  },
  "language_info": {
   "codemirror_mode": {
    "name": "ipython",
    "version": 3
   },
   "file_extension": ".py",
   "mimetype": "text/x-python",
   "name": "python",
   "nbconvert_exporter": "python",
   "pygments_lexer": "ipython3",
   "version": "3.6.8"
  },
  "toc": {
   "base_numbering": 1,
   "nav_menu": {},
   "number_sections": true,
   "sideBar": true,
   "skip_h1_title": false,
   "title_cell": "Table of Contents",
   "title_sidebar": "Contents",
   "toc_cell": false,
   "toc_position": {},
   "toc_section_display": true,
   "toc_window_display": false
  }
 },
 "nbformat": 4,
 "nbformat_minor": 2
}
