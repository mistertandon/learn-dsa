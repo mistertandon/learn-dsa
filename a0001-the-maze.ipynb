{
 "cells": [
  {
   "cell_type": "code",
   "execution_count": 105,
   "metadata": {},
   "outputs": [],
   "source": [
    "from IPython.core.interactiveshell import InteractiveShell\n",
    "InteractiveShell.ast_node_interactivity = 'all'"
   ]
  },
  {
   "cell_type": "code",
   "execution_count": 106,
   "metadata": {},
   "outputs": [
    {
     "data": {
      "text/plain": [
       "[[1, 0, 0, 0], [1, 1, 1, 1], [0, 1, 0, 0], [1, 1, 1, 1]]"
      ]
     },
     "execution_count": 106,
     "metadata": {},
     "output_type": "execute_result"
    }
   ],
   "source": [
    "maze = [ [1, 0, 0, 0], \n",
    "             [1, 1, 1, 1], \n",
    "             [0, 1, 0, 0], \n",
    "             [1, 1, 1, 1] ] \n",
    "maze"
   ]
  },
  {
   "cell_type": "code",
   "execution_count": 107,
   "metadata": {},
   "outputs": [
    {
     "data": {
      "text/plain": [
       "list"
      ]
     },
     "execution_count": 107,
     "metadata": {},
     "output_type": "execute_result"
    }
   ],
   "source": [
    "type(maze)"
   ]
  },
  {
   "cell_type": "code",
   "execution_count": 108,
   "metadata": {},
   "outputs": [
    {
     "data": {
      "text/plain": [
       "4"
      ]
     },
     "execution_count": 108,
     "metadata": {},
     "output_type": "execute_result"
    }
   ],
   "source": [
    "len(maze)"
   ]
  },
  {
   "cell_type": "code",
   "execution_count": 109,
   "metadata": {},
   "outputs": [],
   "source": [
    "start_coord = (0, 0)\n"
   ]
  },
  {
   "cell_type": "code",
   "execution_count": 110,
   "metadata": {},
   "outputs": [
    {
     "data": {
      "text/plain": [
       "1"
      ]
     },
     "execution_count": 110,
     "metadata": {},
     "output_type": "execute_result"
    }
   ],
   "source": [
    "destination_coord = (1, 3)\n",
    "destination_coord[0]"
   ]
  },
  {
   "cell_type": "code",
   "execution_count": 111,
   "metadata": {},
   "outputs": [
    {
     "data": {
      "text/plain": [
       "4"
      ]
     },
     "execution_count": 111,
     "metadata": {},
     "output_type": "execute_result"
    }
   ],
   "source": [
    "rows = len(maze)\n",
    "rows"
   ]
  },
  {
   "cell_type": "code",
   "execution_count": 112,
   "metadata": {},
   "outputs": [
    {
     "data": {
      "text/plain": [
       "4"
      ]
     },
     "execution_count": 112,
     "metadata": {},
     "output_type": "execute_result"
    }
   ],
   "source": [
    "columns = len(maze[0])\n",
    "columns"
   ]
  },
  {
   "cell_type": "code",
   "execution_count": 113,
   "metadata": {},
   "outputs": [],
   "source": [
    "visited_cells = list()"
   ]
  },
  {
   "cell_type": "code",
   "execution_count": 114,
   "metadata": {},
   "outputs": [],
   "source": [
    "path = list()"
   ]
  },
  {
   "cell_type": "code",
   "execution_count": 115,
   "metadata": {},
   "outputs": [
    {
     "name": "stdout",
     "output_type": "stream",
     "text": [
      "yup\n"
     ]
    }
   ],
   "source": [
    "is_found = False\n",
    "if not is_found:\n",
    "    print('yup')"
   ]
  },
  {
   "cell_type": "code",
   "execution_count": 116,
   "metadata": {},
   "outputs": [],
   "source": [
    "def get_path(maze, x_coord, y_coord):\n",
    "    \n",
    "    visited_cells.append((x_coord, y_coord))\n",
    "    path.append((x_coord, y_coord))\n",
    "\n",
    "    got_destination = False\n",
    "    \n",
    "    if destination_coord[0] == x_coord and destination_coord[1] == y_coord:\n",
    "        return True\n",
    "    \n",
    "    if ((x_coord + 1) < rows) and (maze[x_coord + 1][y_coord] == 1) and not got_destination and ((x_coord + 1, y_coord) not in visited_cells):\n",
    "        print('first', x_coord + 1, y_coord)\n",
    "        got_destination = get_path(maze, x_coord + 1, y_coord)\n",
    "        \n",
    "    if (y_coord + 1) < columns and (maze[x_coord][y_coord + 1] == 1) and not got_destination and (x_coord, y_coord + 1) not in visited_cells:\n",
    "        print('second', x_coord, y_coord + 1)\n",
    "        got_destination = get_path(maze, x_coord, y_coord + 1)\n",
    "\n",
    "    if (x_coord - 1) >= 0 and (maze[x_coord - 1][y_coord] == 1) and not got_destination and (x_coord - 1, y_coord) not in visited_cells:\n",
    "        print('third', x_coord - 1, y_coord)\n",
    "        got_destination = get_path(maze, x_coord - 1, y_coord)\n",
    "        \n",
    "    if (y_coord - 1) >= 0  and (maze[x_coord][y_coord - 1] == 1) and not got_destination and (x_coord, y_coord - 1) not in visited_cells:\n",
    "        print('fourth', x_coord, y_coord)\n",
    "        got_destination = get_path(maze, x_coord, y_coord - 1)        \n",
    "    \n",
    "    if got_destination:\n",
    "        return True\n",
    "    else:\n",
    "        path.pop()\n",
    "        return False\n",
    "    \n",
    "    print('get_path')"
   ]
  },
  {
   "cell_type": "code",
   "execution_count": 117,
   "metadata": {},
   "outputs": [
    {
     "name": "stdout",
     "output_type": "stream",
     "text": [
      "first 1 0\n",
      "second 1 1\n",
      "first 2 1\n",
      "first 3 1\n",
      "second 3 2\n",
      "second 3 3\n",
      "fourth 3 1\n",
      "second 1 2\n",
      "second 1 3\n"
     ]
    }
   ],
   "source": [
    "is_path_found = get_path(maze, start_coord[0], start_coord[1])"
   ]
  },
  {
   "cell_type": "code",
   "execution_count": 118,
   "metadata": {},
   "outputs": [
    {
     "name": "stdout",
     "output_type": "stream",
     "text": [
      "Path to destination coordinates 1, 3 do exists\n"
     ]
    }
   ],
   "source": [
    "if is_path_found:\n",
    "    print('Path to destination coordinates %s, %s do exists'%(destination_coord[0], destination_coord[1]))\n",
    "else:\n",
    "    print('Path to destination coordinates %s, %s doesn\\'t exist'%(destination_coord[0], destination_coord[1]))"
   ]
  }
 ],
 "metadata": {
  "kernelspec": {
   "display_name": "Python 3",
   "language": "python",
   "name": "python3"
  },
  "language_info": {
   "codemirror_mode": {
    "name": "ipython",
    "version": 3
   },
   "file_extension": ".py",
   "mimetype": "text/x-python",
   "name": "python",
   "nbconvert_exporter": "python",
   "pygments_lexer": "ipython3",
   "version": "3.6.8"
  },
  "toc": {
   "base_numbering": 1,
   "nav_menu": {},
   "number_sections": true,
   "sideBar": true,
   "skip_h1_title": false,
   "title_cell": "Table of Contents",
   "title_sidebar": "Contents",
   "toc_cell": false,
   "toc_position": {},
   "toc_section_display": true,
   "toc_window_display": false
  }
 },
 "nbformat": 4,
 "nbformat_minor": 2
}
