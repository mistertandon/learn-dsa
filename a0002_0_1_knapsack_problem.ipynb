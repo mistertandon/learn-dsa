{
 "cells": [
  {
   "cell_type": "code",
   "execution_count": 113,
   "metadata": {},
   "outputs": [],
   "source": [
    "from pixiedust import pixiedust"
   ]
  },
  {
   "cell_type": "code",
   "execution_count": 114,
   "metadata": {},
   "outputs": [],
   "source": [
    "from IPython.core.interactiveshell import InteractiveShell\n",
    "InteractiveShell.ast_node_interactivity = 'all'"
   ]
  },
  {
   "cell_type": "code",
   "execution_count": 115,
   "metadata": {},
   "outputs": [],
   "source": [
    "import pandas as pd"
   ]
  },
  {
   "cell_type": "code",
   "execution_count": 116,
   "metadata": {},
   "outputs": [],
   "source": [
    "from a001_helper import print_object, print_variable_type"
   ]
  },
  {
   "cell_type": "code",
   "execution_count": 117,
   "metadata": {},
   "outputs": [],
   "source": [
    "# scores = [60, 100, 120]\n",
    "scores = [30, 50, 70, 60]"
   ]
  },
  {
   "cell_type": "code",
   "execution_count": 118,
   "metadata": {},
   "outputs": [],
   "source": [
    "# weights = [10, 20, 30]\n",
    "weights = [2, 3, 4, 5]"
   ]
  },
  {
   "cell_type": "code",
   "execution_count": 119,
   "metadata": {},
   "outputs": [],
   "source": [
    "given_weight = 5"
   ]
  },
  {
   "cell_type": "code",
   "execution_count": 120,
   "metadata": {},
   "outputs": [],
   "source": [
    "subset_solution_matrix = {}"
   ]
  },
  {
   "cell_type": "code",
   "execution_count": 121,
   "metadata": {
    "pixiedust": {
     "displayParams": {}
    }
   },
   "outputs": [],
   "source": [
    "# %%pixie_debugger\n",
    "for weight_index, weight in enumerate(weights):\n",
    "    \n",
    "    subset_solution_matrix[weight_index] = {}\n",
    "    for index, current_weight in enumerate(range(0, given_weight + 1)):\n",
    "        \n",
    "        if index < weights[0]:\n",
    "            subset_solution_matrix[weight_index][index] = 0\n",
    "            continue\n",
    "        \n",
    "        weight_diff = current_weight - weight\n",
    "\n",
    "        if weight_index == 0:\n",
    "            if current_weight%weight == 0:\n",
    "                subset_solution_matrix[weight_index][index] = subset_solution_matrix[weight_index][index - weight] + 1\n",
    "            else:\n",
    "                subset_solution_matrix[weight_index][index] = 0\n",
    "                \n",
    "            continue\n",
    "        else:\n",
    "            if weight_diff < 0:\n",
    "                subset_solution_matrix[weight_index][index] = subset_solution_matrix[weight_index-1][index]\n",
    "                continue\n",
    "            else:\n",
    "                if current_weight%weight == 0:\n",
    "                    subset_solution_matrix[weight_index][index] = subset_solution_matrix[weight_index][index - weight] + 1\n",
    "                else:\n",
    "                    current_score = subset_solution_matrix[weight_index][index - weight]\n",
    "                    prev_score = subset_solution_matrix[weight_index - 1][index]\n",
    "                    \n",
    "                    if current_score == 0:\n",
    "                        subset_solution_matrix[weight_index][index] = prev_score\n",
    "                    else:\n",
    "                        max_score = max((current_score + 1), prev_score)\n",
    "                        subset_solution_matrix[weight_index][index] = max_score"
   ]
  },
  {
   "cell_type": "code",
   "execution_count": 122,
   "metadata": {},
   "outputs": [
    {
     "data": {
      "text/plain": [
       "{0: {0: 0, 1: 0, 2: 1, 3: 0, 4: 2, 5: 0},\n",
       " 1: {0: 0, 1: 0, 2: 1, 3: 1, 4: 2, 5: 2},\n",
       " 2: {0: 0, 1: 0, 2: 1, 3: 1, 4: 1, 5: 2},\n",
       " 3: {0: 0, 1: 0, 2: 1, 3: 1, 4: 1, 5: 1}}"
      ]
     },
     "execution_count": 122,
     "metadata": {},
     "output_type": "execute_result"
    }
   ],
   "source": [
    "subset_solution_matrix"
   ]
  }
 ],
 "metadata": {
  "kernelspec": {
   "display_name": "Python 3",
   "language": "python",
   "name": "python3"
  },
  "language_info": {
   "codemirror_mode": {
    "name": "ipython",
    "version": 3
   },
   "file_extension": ".py",
   "mimetype": "text/x-python",
   "name": "python",
   "nbconvert_exporter": "python",
   "pygments_lexer": "ipython3",
   "version": "3.6.8"
  },
  "toc": {
   "base_numbering": 1,
   "nav_menu": {},
   "number_sections": true,
   "sideBar": true,
   "skip_h1_title": false,
   "title_cell": "Table of Contents",
   "title_sidebar": "Contents",
   "toc_cell": false,
   "toc_position": {},
   "toc_section_display": true,
   "toc_window_display": false
  }
 },
 "nbformat": 4,
 "nbformat_minor": 2
}
