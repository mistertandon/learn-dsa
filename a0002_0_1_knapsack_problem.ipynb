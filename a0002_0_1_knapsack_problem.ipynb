{
 "cells": [
  {
   "cell_type": "code",
   "execution_count": 90,
   "metadata": {},
   "outputs": [],
   "source": [
    "from pixiedust import pixiedust"
   ]
  },
  {
   "cell_type": "code",
   "execution_count": 91,
   "metadata": {},
   "outputs": [],
   "source": [
    "from IPython.core.interactiveshell import InteractiveShell\n",
    "InteractiveShell.ast_node_interactivity = 'all'"
   ]
  },
  {
   "cell_type": "code",
   "execution_count": 92,
   "metadata": {},
   "outputs": [],
   "source": [
    "import pandas as pd"
   ]
  },
  {
   "cell_type": "code",
   "execution_count": 93,
   "metadata": {},
   "outputs": [],
   "source": [
    "from a001_helper import print_object, print_variable_type"
   ]
  },
  {
   "cell_type": "code",
   "execution_count": 94,
   "metadata": {},
   "outputs": [],
   "source": [
    "# value {1, 4, 5, 7}, wt[] = {1, 3, 4, 5}\n",
    "# scores = [60, 100, 120] weights = [10, 20, 30]\n",
    "# scores = [30, 50, 70, 60] weights = [2, 3, 4, 5]\n",
    "# scores = [1, 5, 6, 8] weights = [1, 1, 1, 1]"
   ]
  },
  {
   "cell_type": "code",
   "execution_count": 95,
   "metadata": {},
   "outputs": [],
   "source": [
    "# scores = [60, 100, 120]\n",
    "scores = [1, 1, 1, 1] "
   ]
  },
  {
   "cell_type": "code",
   "execution_count": 96,
   "metadata": {},
   "outputs": [],
   "source": [
    "# weights = [10, 20, 30]\n",
    "weights = [1, 5, 6, 8]"
   ]
  },
  {
   "cell_type": "code",
   "execution_count": 97,
   "metadata": {},
   "outputs": [],
   "source": [
    "given_weight = 11"
   ]
  },
  {
   "cell_type": "code",
   "execution_count": 98,
   "metadata": {},
   "outputs": [],
   "source": [
    "subset_solution_matrix = {}"
   ]
  },
  {
   "cell_type": "code",
   "execution_count": 99,
   "metadata": {
    "pixiedust": {
     "displayParams": {}
    }
   },
   "outputs": [],
   "source": [
    "# %%pixie_debugger\n",
    "for weight_index, weight in enumerate(weights):\n",
    "    \n",
    "    subset_solution_matrix[weight_index] = {}\n",
    "    for index, current_weight in enumerate(range(0, given_weight + 1)):\n",
    "        \n",
    "        if index < weights[0]:\n",
    "            subset_solution_matrix[weight_index][index] = 0\n",
    "            continue\n",
    "        \n",
    "        weight_diff = current_weight - weight\n",
    "\n",
    "        if weight_index == 0:\n",
    "            if current_weight%weight == 0:\n",
    "                subset_solution_matrix[weight_index][index] = subset_solution_matrix[weight_index][index - weight] + scores[weight_index]\n",
    "            else:\n",
    "                subset_solution_matrix[weight_index][index] = 0\n",
    "                \n",
    "            continue\n",
    "        else:\n",
    "            if weight_diff < 0:\n",
    "                subset_solution_matrix[weight_index][index] = subset_solution_matrix[weight_index-1][index]\n",
    "                continue\n",
    "            else:\n",
    "                if current_weight%weight == 0:\n",
    "                    subset_solution_matrix[weight_index][index] = subset_solution_matrix[weight_index][index - weight] + scores[weight_index]\n",
    "                else:\n",
    "                    current_score = subset_solution_matrix[weight_index][index - weight]\n",
    "                    prev_score = subset_solution_matrix[weight_index - 1][index]\n",
    "                    \n",
    "                    if current_score == 0:\n",
    "                        subset_solution_matrix[weight_index][index] = prev_score\n",
    "                    else:\n",
    "                        max_score = max((current_score + 1), prev_score)\n",
    "                        subset_solution_matrix[weight_index][index] = max_score"
   ]
  },
  {
   "cell_type": "code",
   "execution_count": 100,
   "metadata": {},
   "outputs": [
    {
     "data": {
      "text/plain": [
       "{0: {0: 0,\n",
       "  1: 1,\n",
       "  2: 2,\n",
       "  3: 3,\n",
       "  4: 4,\n",
       "  5: 5,\n",
       "  6: 6,\n",
       "  7: 7,\n",
       "  8: 8,\n",
       "  9: 9,\n",
       "  10: 10,\n",
       "  11: 11},\n",
       " 1: {0: 0, 1: 1, 2: 2, 3: 3, 4: 4, 5: 1, 6: 2, 7: 3, 8: 4, 9: 5, 10: 2, 11: 3},\n",
       " 2: {0: 0, 1: 1, 2: 2, 3: 3, 4: 4, 5: 1, 6: 1, 7: 2, 8: 3, 9: 4, 10: 2, 11: 2},\n",
       " 3: {0: 0, 1: 1, 2: 2, 3: 3, 4: 4, 5: 1, 6: 1, 7: 2, 8: 1, 9: 2, 10: 2, 11: 2}}"
      ]
     },
     "execution_count": 100,
     "metadata": {},
     "output_type": "execute_result"
    }
   ],
   "source": [
    "subset_solution_matrix"
   ]
  }
 ],
 "metadata": {
  "kernelspec": {
   "display_name": "Python 3",
   "language": "python",
   "name": "python3"
  },
  "language_info": {
   "codemirror_mode": {
    "name": "ipython",
    "version": 3
   },
   "file_extension": ".py",
   "mimetype": "text/x-python",
   "name": "python",
   "nbconvert_exporter": "python",
   "pygments_lexer": "ipython3",
   "version": "3.6.8"
  },
  "toc": {
   "base_numbering": 1,
   "nav_menu": {},
   "number_sections": true,
   "sideBar": true,
   "skip_h1_title": false,
   "title_cell": "Table of Contents",
   "title_sidebar": "Contents",
   "toc_cell": false,
   "toc_position": {},
   "toc_section_display": true,
   "toc_window_display": false
  }
 },
 "nbformat": 4,
 "nbformat_minor": 2
}
